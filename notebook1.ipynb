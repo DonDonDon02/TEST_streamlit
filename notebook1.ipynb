{
 "cells": [
  {
   "cell_type": "code",
   "execution_count": 2,
   "metadata": {},
   "outputs": [],
   "source": [
    "import streamlit as st\n",
    "\n",
    "import pyodbc\n",
    "import os \n",
    "from dotenv import load_dotenv\n",
    "import pandas as pd\n",
    "\n",
    "\n",
    "load_dotenv()\n",
    "\n",
    "\n",
    "\n",
    "# server = os.getenv('DATABASE_SER')\n",
    "# database = 'mySampleDatabase'\n",
    "# username = os.getenv('DATABASE_USERNAME')\n",
    "# password = os.getenv('DATABASE_PASSWORD')\n",
    "# driver = '{ODBC Driver 18 for SQL Server}'\n",
    "\n",
    "server = st.secrets['DATABASE_SER']\n",
    "database = 'mySampleDatabase'\n",
    "username = st.secrets['DATABASE_USERNAME']\n",
    "password = st.secrets['DATABASE_PASSWORD']\n",
    "driver = '{ODBC Driver 17 for SQL Server}'\n",
    "\n",
    " \n",
    "with pyodbc.connect('DRIVER='+driver+';SERVER=tcp:'+server+';PORT=1433;DATABASE='+database+';UID='+username+';PWD='+ password) as conn:\n",
    "    with conn.cursor() as cursor:\n",
    "        # Execute the query\n",
    "        cursor.execute('''\n",
    "            SELECT *\n",
    "            FROM [dbo].[sp500_stock_data]\n",
    "            WHERE code = 'AAPL'\n",
    "            \n",
    "        ''')\n",
    "\n",
    "        # Fetch all rows\n",
    "        rows = cursor.fetchall()\n",
    "\n",
    "        # Convert to DataFrame\n",
    "        df = pd.DataFrame.from_records(rows, columns=[desc[0] for desc in cursor.description])"
   ]
  }
 ],
 "metadata": {
  "kernelspec": {
   "display_name": "Python 3",
   "language": "python",
   "name": "python3"
  },
  "language_info": {
   "codemirror_mode": {
    "name": "ipython",
    "version": 3
   },
   "file_extension": ".py",
   "mimetype": "text/x-python",
   "name": "python",
   "nbconvert_exporter": "python",
   "pygments_lexer": "ipython3",
   "version": "3.11.1"
  }
 },
 "nbformat": 4,
 "nbformat_minor": 2
}
